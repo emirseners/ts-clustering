{
 "cells": [
  {
   "cell_type": "markdown",
   "metadata": {},
   "source": [
    "# PySD usage\n",
    "This notebook shows how to run a simple Vensim model with PySD and feed results to `simclstr.clusterer`.\n",
    "\n",
    "MDL dosyasının bulunduğu yerde, path'de pycache ve py dosyaları oluşuyor, onları main kodda fonksiyonun altında silmek lazım.\n",
    "\n",
    "import sys'den model_path'e olan 4 satır package yayımlanmadan silinerek commented linelar kullanılmalıdır."
   ]
  },
  {
   "cell_type": "code",
   "execution_count": null,
   "metadata": {},
   "outputs": [],
   "source": [
    "#from simclstr.clusterer import perform_clustering, simulate_from_vensim\n",
    "\n",
    "#model_path = 'path/to/your/model.mdl'\n",
    "\n",
    "import sys\n",
    "sys.path.insert(0, \"/Users/emirsener/Desktop/ts-clustering\")\n",
    "\n",
    "from simclstr.clusterer import perform_clustering, simulate_from_vensim\n",
    "from simclstr.plotting import plot_clusters\n",
    "\n",
    "import os\n",
    "model_path = os.path.expanduser('~/Desktop/temperature model/temperature model.mdl')\n",
    "\n",
    "parameter_set = {'Initial actual temperature': [15, 20, 25],\n",
    "                 'Initial measured temperature': [15, 20, 25],\n",
    "                 'Desired temperature': [15, 20, 25],\n",
    "                 'Adjustment time': [3*i for i in range(1, 6)],\n",
    "                 'Measurement delay': [3*i for i in range(1, 6)]\n",
    "                }\n",
    "\n",
    "output_of_interest = 'Actual Temperature'\n",
    "\n",
    "simulation_results = simulate_from_vensim(model_path, parameter_set, output_of_interest)\n",
    "\n",
    "for i, res in enumerate(simulation_results[:5]):\n",
    "    print(f\"Simulation Run {i+1}:\")\n",
    "    print(res)\n",
    "    print(\"-\" * 40)"
   ]
  },
  {
   "cell_type": "code",
   "execution_count": null,
   "metadata": {},
   "outputs": [],
   "source": [
    "clustering_results = perform_clustering(simulation_results, cMethod='maxclust', cValue = 8, plotDendrogram=True)\n",
    "\n",
    "plot_clusters(clustering_results[1], 'pattern_dtw')"
   ]
  },
  {
   "cell_type": "code",
   "execution_count": null,
   "metadata": {},
   "outputs": [],
   "source": [
    "clustering_results = perform_clustering(simulation_results, distance='euclidean', cMethod='maxclust', cValue = 8, plotDendrogram=True, plotClusters=True)\n",
    "\n",
    "plot_clusters(clustering_results[1], 'euclidean')"
   ]
  }
 ],
 "metadata": {
  "kernelspec": {
   "display_name": ".venv",
   "language": "python",
   "name": "python3"
  },
  "language_info": {
   "codemirror_mode": {
    "name": "ipython",
    "version": 3
   },
   "file_extension": ".py",
   "mimetype": "text/x-python",
   "name": "python",
   "nbconvert_exporter": "python",
   "pygments_lexer": "ipython3",
   "version": "3.12.0"
  }
 },
 "nbformat": 4,
 "nbformat_minor": 2
}
