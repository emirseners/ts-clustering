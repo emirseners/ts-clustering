{
 "cells": [
  {
   "cell_type": "markdown",
   "metadata": {},
   "source": [
    "# Basic Usage Examples\n",
    "\n",
    "This notebook demonstrates basic usage of the simclstr library for time series clustering."
   ]
  },
  {
   "cell_type": "markdown",
   "metadata": {},
   "source": [
    "## Importing the Library\n",
    "\n",
    "First, let's import the necessary modules."
   ]
  },
  {
   "cell_type": "code",
   "execution_count": null,
   "metadata": {},
   "outputs": [],
   "source": [
    "import numpy as np\n",
    "import matplotlib.pyplot as plt\n",
    "from simclstr import perform_clustering"
   ]
  },
  {
   "cell_type": "markdown",
   "metadata": {},
   "source": [
    "## Sample Time Series Data\n",
    "\n",
    "Let's create some sample time series data for clustering."
   ]
  },
  {
   "cell_type": "code",
   "execution_count": null,
   "metadata": {},
   "outputs": [],
   "source": [
    "# Generate sample time series data\n",
    "np.random.seed(42)\n",
    "n_timesteps = 50\n",
    "\n",
    "# Create 3 different patterns\n",
    "pattern1 = np.sin(np.linspace(0, 4*np.pi, n_timesteps)) + np.random.normal(0, 0.1, n_timesteps)\n",
    "pattern2 = np.cos(np.linspace(0, 4*np.pi, n_timesteps)) + np.random.normal(0, 0.1, n_timesteps)\n",
    "pattern3 = np.sin(np.linspace(0, 2*np.pi, n_timesteps)) + np.random.normal(0, 0.1, n_timesteps)\n",
    "\n",
    "# Create dataset with multiple instances of each pattern\n",
    "ts_data = []\n",
    "for i in range(20):\n",
    "    ts_data.append(pattern1 + np.random.normal(0, 0.05, n_timesteps))\n",
    "for i in range(20):\n",
    "    ts_data.append(pattern2 + np.random.normal(0, 0.05, n_timesteps))\n",
    "for i in range(20):\n",
    "    ts_data.append(pattern3 + np.random.normal(0, 0.05, n_timesteps))\n",
    "\n",
    "ts_data = np.array(ts_data)\n",
    "print(f\"Dataset shape: {ts_data.shape}\")"
   ]
  },
  {
   "cell_type": "markdown",
   "metadata": {},
   "source": [
    "## Performing Clustering\n",
    "\n",
    "Now let's perform clustering using the maxclust method with 5 clusters."
   ]
  },
  {
   "cell_type": "code",
   "execution_count": null,
   "metadata": {},
   "outputs": [],
   "source": [
    "# Perform clustering\n",
    "clustering_results = perform_clustering(\n",
    "    ts_data, \n",
    "    cMethod='maxclust', \n",
    "    cValue=5, \n",
    "    plotDendrogram=True, \n",
    "    plotClusters=True\n",
    ")"
   ]
  },
  {
   "cell_type": "markdown",
   "metadata": {},
   "source": [
    "## Analyzing Results\n",
    "\n",
    "Let's examine the clustering results."
   ]
  },
  {
   "cell_type": "code",
   "execution_count": null,
   "metadata": {},
   "outputs": [],
   "source": [
    "print(f\"Number of clusters: {len(clustering_results)}\")\n",
    "for i, cluster in enumerate(clustering_results):\n",
    "    print(f\"Cluster {i+1}: {len(cluster)} time series\")"
   ]
  },
  {
   "cell_type": "markdown",
   "metadata": {},
   "source": [
    "## Visualization\n",
    "\n",
    "The clustering function automatically generates plots showing the dendrogram and cluster assignments."
   ]
  },
  {
   "cell_type": "code",
   "execution_count": null,
   "metadata": {},
   "outputs": [],
   "source": [
    "plt.show()"
   ]
  }
 ],
 "metadata": {
  "kernelspec": {
   "display_name": "Python 3",
   "language": "python",
   "name": "python3"
  },
  "language_info": {
   "codemirror_mode": {
    "name": "ipython",
    "version": 3
   },
   "file_extension": ".py",
   "mimetype": "text/x-python",
   "name": "python",
   "nbconvert_exporter": "python",
   "pygments_lexer": "ipython3",
   "version": "3.8.0"
  }
 },
 "nbformat": 4,
 "nbformat_minor": 4
}
