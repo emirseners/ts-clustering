{
 "cells": [
  {
   "cell_type": "code",
   "execution_count": 38,
   "metadata": {},
   "outputs": [
    {
     "ename": "IndexError",
     "evalue": "string index out of range",
     "output_type": "error",
     "traceback": [
      "\u001b[31m---------------------------------------------------------------------------\u001b[39m",
      "\u001b[31mIndexError\u001b[39m                                Traceback (most recent call last)",
      "\u001b[36mCell\u001b[39m\u001b[36m \u001b[39m\u001b[32mIn[38]\u001b[39m\u001b[32m, line 9\u001b[39m\n\u001b[32m      6\u001b[39m \u001b[38;5;28;01mimport\u001b[39;00m\u001b[38;5;250m \u001b[39m\u001b[34;01mos\u001b[39;00m\n\u001b[32m      7\u001b[39m data_file_path = os.path.expanduser(\u001b[33m\"\u001b[39m\u001b[33m~/Desktop/SESDYN_Basic_A/Basic_A_Complete.xlsx\u001b[39m\u001b[33m\"\u001b[39m)\n\u001b[32m----> \u001b[39m\u001b[32m9\u001b[39m clustering_results = \u001b[43mperform_clustering\u001b[49m\u001b[43m(\u001b[49m\u001b[43mdata_file_path\u001b[49m\u001b[43m,\u001b[49m\u001b[43m \u001b[49m\u001b[43mcMethod\u001b[49m\u001b[43m=\u001b[49m\u001b[33;43m'\u001b[39;49m\u001b[33;43mmaxclust\u001b[39;49m\u001b[33;43m'\u001b[39;49m\u001b[43m,\u001b[49m\u001b[43m \u001b[49m\u001b[43mcValue\u001b[49m\u001b[43m \u001b[49m\u001b[43m=\u001b[49m\u001b[43m \u001b[49m\u001b[32;43m8\u001b[39;49m\u001b[43m,\u001b[49m\u001b[43m \u001b[49m\u001b[43mplotDendrogram\u001b[49m\u001b[43m=\u001b[49m\u001b[38;5;28;43;01mTrue\u001b[39;49;00m\u001b[43m,\u001b[49m\u001b[43m \u001b[49m\u001b[43mplotClusters\u001b[49m\u001b[43m=\u001b[49m\u001b[38;5;28;43;01mTrue\u001b[39;49;00m\u001b[43m)\u001b[49m\n",
      "\u001b[36mFile \u001b[39m\u001b[32m~/Desktop/ts-clustering/simclstr/clusterer.py:234\u001b[39m, in \u001b[36mperform_clustering\u001b[39m\u001b[34m(data_w_labels, distance, interClusterDistance, cMethod, cValue, plotDendrogram, plotClusters, plotClustersMode, **kwargs)\u001b[39m\n\u001b[32m    191\u001b[39m \u001b[38;5;250m\u001b[39m\u001b[33;03m\"\"\"\u001b[39;00m\n\u001b[32m    192\u001b[39m \u001b[33;03mCluster time series data using hierarchical clustering.\u001b[39;00m\n\u001b[32m    193\u001b[39m \n\u001b[32m   (...)\u001b[39m\u001b[32m    231\u001b[39m \u001b[33;03m    Tuple of (distances, cluster_list, cluster_assignments).\u001b[39;00m\n\u001b[32m    232\u001b[39m \u001b[33;03m\"\"\"\u001b[39;00m\n\u001b[32m    233\u001b[39m \u001b[38;5;66;03m# Construct a list that includes only the data part. Gets rid of the label string in dataSet[i][0]\u001b[39;00m\n\u001b[32m--> \u001b[39m\u001b[32m234\u001b[39m data_wo_labels = [\u001b[43mitem\u001b[49m\u001b[43m[\u001b[49m\u001b[32;43m1\u001b[39;49m\u001b[43m]\u001b[49m \u001b[38;5;28;01mfor\u001b[39;00m item \u001b[38;5;129;01min\u001b[39;00m data_w_labels]\n\u001b[32m    236\u001b[39m \u001b[38;5;66;03m# Convert list of arrays to 2D numpy array for distance functions\u001b[39;00m\n\u001b[32m    237\u001b[39m data_wo_labels_array = np.array(data_wo_labels)\n",
      "\u001b[31mIndexError\u001b[39m: string index out of range"
     ]
    }
   ],
   "source": [
    "import sys\n",
    "sys.path.insert(0, \"/Users/emirsener/Desktop/ts-clustering\")\n",
    "\n",
    "from simclstr.clusterer import perform_clustering, read_time_series\n",
    "\n",
    "import os\n",
    "data_file_path = os.path.expanduser(\"~/Desktop/SESDYN_Basic_A/Basic_A_Complete.xlsx\")\n",
    "\n",
    "clustering_results = perform_clustering(data_file_path, cMethod='maxclust', cValue = 8, plotDendrogram=True, plotClusters=True)"
   ]
  }
 ],
 "metadata": {
  "kernelspec": {
   "display_name": "Python 3",
   "language": "python",
   "name": "python3"
  },
  "language_info": {
   "codemirror_mode": {
    "name": "ipython",
    "version": 3
   },
   "file_extension": ".py",
   "mimetype": "text/x-python",
   "name": "python",
   "nbconvert_exporter": "python",
   "pygments_lexer": "ipython3",
   "version": "3.13.6"
  }
 },
 "nbformat": 4,
 "nbformat_minor": 4
}
